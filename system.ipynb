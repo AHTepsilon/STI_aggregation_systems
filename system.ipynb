{
  "nbformat": 4,
  "nbformat_minor": 0,
  "metadata": {
    "colab": {
      "provenance": []
    },
    "kernelspec": {
      "name": "python3",
      "display_name": "Python 3"
    },
    "language_info": {
      "name": "python"
    }
  },
  "cells": [
    {
      "cell_type": "code",
      "execution_count": 25,
      "metadata": {
        "id": "pCFAQH7QKH6H"
      },
      "outputs": [],
      "source": [
        "import numpy as np\n",
        "import pandas as pd\n",
        "import math\n",
        "import array as arr"
      ]
    },
    {
      "cell_type": "code",
      "source": [
        "pd.__version__"
      ],
      "metadata": {
        "colab": {
          "base_uri": "https://localhost:8080/",
          "height": 35
        },
        "id": "0sUwybdVKYqG",
        "outputId": "a6b0b793-6ae2-4657-e873-6d6ef2e1c177"
      },
      "execution_count": 26,
      "outputs": [
        {
          "output_type": "execute_result",
          "data": {
            "text/plain": [
              "'1.3.5'"
            ],
            "application/vnd.google.colaboratory.intrinsic+json": {
              "type": "string"
            }
          },
          "metadata": {},
          "execution_count": 26
        }
      ]
    },
    {
      "cell_type": "code",
      "source": [
        "np.__version__"
      ],
      "metadata": {
        "colab": {
          "base_uri": "https://localhost:8080/",
          "height": 35
        },
        "id": "qp0NuyPGKabu",
        "outputId": "ebbdeecf-6e8f-4e31-bd75-f17b861b1b17"
      },
      "execution_count": 27,
      "outputs": [
        {
          "output_type": "execute_result",
          "data": {
            "text/plain": [
              "'1.21.6'"
            ],
            "application/vnd.google.colaboratory.intrinsic+json": {
              "type": "string"
            }
          },
          "metadata": {},
          "execution_count": 27
        }
      ]
    },
    {
      "cell_type": "code",
      "source": [
        "data_base = pd.read_csv('base.csv')"
      ],
      "metadata": {
        "id": "4Ui9bfRMKc9e"
      },
      "execution_count": 28,
      "outputs": []
    },
    {
      "cell_type": "code",
      "source": [
        "print(data_base)"
      ],
      "metadata": {
        "colab": {
          "base_uri": "https://localhost:8080/"
        },
        "id": "b4r7OAPoK9Km",
        "outputId": "be2247d3-4e64-4f12-b2f6-20c19560ed86"
      },
      "execution_count": 29,
      "outputs": [
        {
          "output_type": "stream",
          "name": "stdout",
          "text": [
            "                   Nombre  Pop  Rock  Rap  Clasica  Reggaeton  Kpop  Salsa  \\\n",
            "0        Sebastian Arango    9     7    8        3         10     2      8   \n",
            "1        Valentina Arango    8    10    7        8          3     1     10   \n",
            "2           Laura Barrera    8     7    1        1         10     5     10   \n",
            "3      Natalia Betancourt    9     4    6        5          9     1      2   \n",
            "4        Isabella Gallego   10     9    7        4          8     1      4   \n",
            "5   Jose Gabriel Gonzalez    8     9    3        7          2     5      2   \n",
            "6     Alejandro Hernandez    7    10    5        7          2     4      8   \n",
            "7          Camilo Guevara    9    10   10        8         10     5     10   \n",
            "8        Natalia Martinez   10    10    6        5          8     7      7   \n",
            "9           Paula Morales    8     8    2       10          8     5      5   \n",
            "10           Laura Orozco   10    10    8       10          4    10      4   \n",
            "11           Lina Peralta    9    10    4        8          9     8      6   \n",
            "12     Maria Jose Polanco   10     8    8        5          7     7      2   \n",
            "13       Juan Pablo Sanin    7     6   10        5         10     7      9   \n",
            "14         Salomon Sarria    8    10   10        5         10     5     10   \n",
            "15          Valeria Ulloa   10     6    8        6         10     1      7   \n",
            "16          Estiven Reyes    8    10    5        6          1     5      6   \n",
            "\n",
            "    Latina  \n",
            "0        8  \n",
            "1        5  \n",
            "2       10  \n",
            "3       10  \n",
            "4        6  \n",
            "5        4  \n",
            "6        8  \n",
            "7        9  \n",
            "8        7  \n",
            "9        9  \n",
            "10       4  \n",
            "11       5  \n",
            "12      10  \n",
            "13       9  \n",
            "14      10  \n",
            "15       9  \n",
            "16       6  \n"
          ]
        }
      ]
    },
    {
      "cell_type": "code",
      "source": [
        "def Average(lst):\n",
        "    return sum(lst) / len(lst)"
      ],
      "metadata": {
        "id": "BXAwbaN0OrVx"
      },
      "execution_count": 30,
      "outputs": []
    },
    {
      "cell_type": "code",
      "source": [
        "data_base_table = [data_base.Pop, data_base.Rock, data_base.Rap, data_base.Clasica, data_base.Reggaeton, data_base.Kpop, data_base.Salsa, data_base.Latina]\n",
        "data_base_table_avg = []\n",
        "for item in data_base_table:\n",
        "  data_base_table_avg.append(round(Average(item), 2))\n",
        "\n",
        "print(\"Naïve Average\")\n",
        "print(data_base_table_avg)"
      ],
      "metadata": {
        "colab": {
          "base_uri": "https://localhost:8080/"
        },
        "id": "jJHXw4JxNKVt",
        "outputId": "dcdd9d4e-a2e2-4399-e46c-d5f9c619bc0c"
      },
      "execution_count": 31,
      "outputs": [
        {
          "output_type": "stream",
          "name": "stdout",
          "text": [
            "Naïve Average\n",
            "[8.71, 8.47, 6.35, 6.06, 7.12, 4.65, 6.47, 7.59]\n"
          ]
        }
      ]
    },
    {
      "cell_type": "code",
      "source": [
        "data_base_table_avg_LM = []\n",
        "\n",
        "for item in data_base_table_avg:\n",
        "  if item >= 5:\n",
        "    data_base_table_avg_LM.append(item)\n",
        "  \n",
        "print(\"Least Misery\") \n",
        "print( data_base_table_avg_LM)"
      ],
      "metadata": {
        "colab": {
          "base_uri": "https://localhost:8080/"
        },
        "id": "PHPyAvxrQPps",
        "outputId": "7622ff70-f8e2-4f12-dc45-745df3164409"
      },
      "execution_count": 34,
      "outputs": [
        {
          "output_type": "stream",
          "name": "stdout",
          "text": [
            "Least Misery\n",
            "[8.71, 8.47, 6.35, 6.06, 7.12, 6.47, 7.59]\n"
          ]
        }
      ]
    },
    {
      "cell_type": "code",
      "source": [
        "data_base_table_avg_MP = []\n",
        "\n",
        "for item in data_base_table_avg:\n",
        "  if item >= 8:\n",
        "    data_base_table_avg_MP.append(item)\n",
        "\n",
        "print(\"Maximum Pleasure\")\n",
        "print(data_base_table_avg_MP)"
      ],
      "metadata": {
        "colab": {
          "base_uri": "https://localhost:8080/"
        },
        "id": "_tk9QxiFTB5P",
        "outputId": "a6fd233e-e604-4b0a-c36b-edc51a49dc8d"
      },
      "execution_count": 36,
      "outputs": [
        {
          "output_type": "stream",
          "name": "stdout",
          "text": [
            "Maximum Pleasure\n",
            "[8.71, 8.47]\n"
          ]
        }
      ]
    },
    {
      "cell_type": "code",
      "source": [
        "finalItem = 0\n",
        "stds = []\n",
        "\n",
        "for item in data_base_table_avg:\n",
        "  stds.append(np.std(item))\n",
        "  \n",
        "print(stds)"
      ],
      "metadata": {
        "colab": {
          "base_uri": "https://localhost:8080/"
        },
        "id": "aR9uGXavUrOF",
        "outputId": "e0b7b219-d05a-4c5f-93b1-8198cd90d0bb"
      },
      "execution_count": 39,
      "outputs": [
        {
          "output_type": "stream",
          "name": "stdout",
          "text": [
            "[0.0, 0.0, 0.0, 0.0, 0.0, 0.0, 0.0]\n"
          ]
        }
      ]
    }
  ]
}